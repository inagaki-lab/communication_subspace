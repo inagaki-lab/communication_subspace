{
 "cells": [
  {
   "cell_type": "code",
   "execution_count": null,
   "metadata": {},
   "outputs": [],
   "source": [
    "%load_ext autoreload\n",
    "%autoreload 2\n",
    "\n",
    "from scipy.io import loadmat\n",
    "from pathlib import Path\n",
    "\n",
    "from recording import Recording\n",
    "import utils as utl\n",
    "\n",
    "import matplotlib.pyplot as plt\n",
    "import seaborn as sns\n",
    "import numpy as np\n",
    "\n",
    "import pandas as pd\n",
    "# from helpers_notebook import show_full_df\n",
    "\n",
    "# global settings\n",
    "bin_size = 0.1\n",
    "thresh_rate = 1 # firing rate in Hz\n",
    "thresh_sw = 0.5 # spike width in ms\n",
    "thresh_trials = 0.9 # number of trials in %"
   ]
  },
  {
   "attachments": {},
   "cell_type": "markdown",
   "metadata": {},
   "source": [
    "# example"
   ]
  },
  {
   "cell_type": "markdown",
   "metadata": {},
   "source": [
    "## load data"
   ]
  },
  {
   "cell_type": "code",
   "execution_count": null,
   "metadata": {},
   "outputs": [],
   "source": [
    "# load recording as Recording object\n",
    "p_mat = './data/zidan/ALM_ALM/MK22_20230301/MK22_20230301_2H2_g0_JRC_units_probe1.mat'\n",
    "rec = Recording(p_mat)"
   ]
  },
  {
   "cell_type": "code",
   "execution_count": null,
   "metadata": {},
   "outputs": [],
   "source": [
    "# get binned spikes defined `bin_size`, if possible load from disk\n",
    "p_prq = rec._path_name(f'bin{bin_size}.parquet')\n",
    "df = rec._assign_df(p_prq, rec._calculate_psth, {'bin_size': bin_size})\n",
    "df = utl.rate_and_time(df, bin_size)"
   ]
  },
  {
   "cell_type": "code",
   "execution_count": null,
   "metadata": {},
   "outputs": [],
   "source": [
    "unit = 1 # plot example unit\n",
    "\n",
    "utl.plot_unit(df, rec, bin_size, unit=unit) # whole session\n",
    "\n",
    "xlims = (1000, 1100) # zoomed in\n",
    "utl.plot_unit(df, rec, bin_size, unit=unit, xlims=xlims)"
   ]
  },
  {
   "cell_type": "markdown",
   "metadata": {},
   "source": [
    "## filter units and trials"
   ]
  },
  {
   "cell_type": "code",
   "execution_count": null,
   "metadata": {},
   "outputs": [],
   "source": [
    "# get units with rate > `thresh_rate` and spike width > `thresh_sw`\n",
    "unts_rate = utl.filter_rates(df, thresh_rate)\n",
    "unts_sw = utl.filter_spike_width(rec.df_unt, thresh_sw)\n",
    "\n",
    "# drop unit one at a time\n",
    "m = rec.df_unt.loc[:, 'unit'].isin(unts_rate & unts_sw)\n",
    "unts_range, trls_range = utl.filter_trials(rec.df_unt.loc[m], thresh=thresh_trials, plot=False)\n",
    "\n",
    "# only keep units/trials meeting all criteria\n",
    "u = unts_rate & unts_sw & unts_range\n",
    "t = trls_range\n",
    "print(f'{len(u)} units and {len(t)} trials survived')\n",
    "m = df.loc[:, 'unit'].isin(u) & df.loc[:, 'trial'].isin(t)\n",
    "# utl.plot_missing(df.loc[m], bin_size, vmax=5)\n",
    "\n",
    "# save for later\n",
    "rec.units = u\n",
    "rec.trials = t"
   ]
  },
  {
   "attachments": {},
   "cell_type": "markdown",
   "metadata": {},
   "source": [
    "## get X and Y population"
   ]
  },
  {
   "cell_type": "code",
   "execution_count": null,
   "metadata": {},
   "outputs": [],
   "source": [
    "# generate features and targets (mean pre-cue firing rate gets subtracted)\n",
    "dfx, dfy = utl.select_data(rec, bin_size=.1)\n",
    "dfx_mat, dfy_mat = utl.get_matrix(dfx), utl.get_matrix(dfy)\n",
    "X, Y = dfx_mat.values, dfy_mat.values"
   ]
  },
  {
   "cell_type": "code",
   "execution_count": null,
   "metadata": {},
   "outputs": [],
   "source": [
    "# ridge\n",
    "# lin_scores = utl.linear_regression(X, Y)\n",
    "ridge_mods = utl.ridge_regression(X, Y, alphas=np.logspace(4, 6, 100))\n",
    "ridge_mod = ridge_mods.best_estimator_\n",
    "utl.plot_gridsearch(ridge_mods, 'param_mod__alpha')"
   ]
  },
  {
   "cell_type": "code",
   "execution_count": null,
   "metadata": {},
   "outputs": [],
   "source": [
    "# RRR\n",
    "rr_mods = utl.reduced_rank_regression(X, Y, Y.shape[1])\n",
    "rr_mod = rr_mods.best_estimator_\n",
    "utl.plot_gridsearch(rr_mods, 'param_mod__r', logscale=False)"
   ]
  },
  {
   "cell_type": "markdown",
   "metadata": {},
   "source": [
    "### PSTH and all vs one"
   ]
  },
  {
   "cell_type": "code",
   "execution_count": null,
   "metadata": {},
   "outputs": [],
   "source": [
    "## all vs one\n",
    "\n",
    "# get scores for best alpha\n",
    "ridge_scores = {}\n",
    "alpha = ridge_mod.get_params()['mod__alpha']\n",
    "\n",
    "for y, u in zip(Y.T, dfy_mat.columns):\n",
    "    mods = utl.ridge_regression(X, y, alphas=[alpha])\n",
    "    mod = mods.best_estimator_\n",
    "    ridge_scores[u] = mod.score(X, y)\n",
    "\n",
    "# prediction\n",
    "Y_pred = ridge_mod.predict(X)\n",
    "dfy_pred = utl.matrix2df(Y_pred, dfy)\n",
    "\n",
    "# plot true and predicted with score\n",
    "utl.plot_psth(dfy, bin_size, df2=dfy_pred, scores=ridge_scores)"
   ]
  },
  {
   "attachments": {},
   "cell_type": "markdown",
   "metadata": {},
   "source": [
    "# ALM-ALM"
   ]
  },
  {
   "cell_type": "code",
   "execution_count": null,
   "metadata": {},
   "outputs": [],
   "source": [
    "# load\n",
    "rec1 = Recording('./data/zidan/ALM_ALM/MK22_20230301/MK22_20230301_2H2_g0_JRC_units_probe2.mat')\n",
    "rec2 = Recording('./data/zidan/ALM_ALM/MK22_20230301/MK22_20230301_2H2_g0_JRC_units_probe1.mat')\n",
    "\n",
    "# process\n",
    "for rec in [rec1, rec2]:\n",
    "\n",
    "    # bin spikes\n",
    "    p_prq = rec._path_name(f'bin{bin_size}.parquet')\n",
    "    df = rec._assign_df(p_prq, rec._calculate_psth, {'bin_size': bin_size})\n",
    "    df = utl.rate_and_time(df, bin_size)\n",
    "\n",
    "    # filter units/trials\n",
    "    unts_rate = utl.filter_rates(df, thresh_rate)\n",
    "    unts_sw = utl.filter_spike_width(rec.df_unt, thresh_sw)\n",
    "\n",
    "    m = rec.df_unt.loc[:, 'unit'].isin(unts_rate & unts_sw)\n",
    "    unts_range, trls_range = utl.filter_trials(rec.df_unt.loc[m], thresh=thresh_trials, plot=False)\n",
    "\n",
    "    rec.units = unts_rate & unts_sw & unts_range\n",
    "    rec.trials = trls_range\n",
    "\n",
    "# features and targets \n",
    "X, Y = utl.get_xy(rec1, rec2=rec2, bin_size=bin_size)"
   ]
  },
  {
   "cell_type": "code",
   "execution_count": null,
   "metadata": {},
   "outputs": [],
   "source": [
    "# ridge\n",
    "# lin_scores = utl.linear_regression(X, Y)\n",
    "ridge_mods = utl.ridge_regression(X, Y, alphas=np.logspace(-4, 4, 100))\n",
    "ridge_mod = ridge_mods.best_estimator_\n",
    "utl.plot_gridsearch(ridge_mods, 'param_mod__alpha')"
   ]
  },
  {
   "cell_type": "code",
   "execution_count": null,
   "metadata": {},
   "outputs": [],
   "source": [
    "# RRR\n",
    "rr_mods = utl.reduced_rank_regression(X, Y, Y.shape[1])\n",
    "rr_mod = rr_mods.best_estimator_\n",
    "utl.plot_gridsearch(rr_mods, 'param_mod__r', logscale=False)"
   ]
  },
  {
   "cell_type": "markdown",
   "metadata": {},
   "source": [
    "# ALM-STR"
   ]
  },
  {
   "cell_type": "code",
   "execution_count": null,
   "metadata": {},
   "outputs": [],
   "source": [
    "# imec0: STR\n",
    "rec2 = Recording('./data/zidan/ALM_STR/ZY78_20211015/ZY78_20211015NP_g0_JRC_units.mat')\n",
    "rec1 = Recording('./data/zidan/ALM_STR/ZY78_20211015/ZY78_20211015NP_g0_imec0_JRC_units.mat')\n",
    "\n",
    "# process\n",
    "for rec in [rec1, rec2]:\n",
    "\n",
    "    # bin spikes\n",
    "    p_prq = rec._path_name(f'bin{bin_size}.parquet')\n",
    "    df = rec._assign_df(p_prq, rec._calculate_psth, {'bin_size': bin_size})\n",
    "    df = utl.rate_and_time(df, bin_size)\n",
    "\n",
    "    # filter units/trials\n",
    "    unts_rate = utl.filter_rates(df, thresh_rate)\n",
    "    unts_sw = utl.filter_spike_width(rec.df_unt, thresh_sw)\n",
    "\n",
    "    m = rec.df_unt.loc[:, 'unit'].isin(unts_rate & unts_sw)\n",
    "    unts_range, trls_range = utl.filter_trials(rec.df_unt.loc[m], thresh=thresh_trials, plot=False)\n",
    "\n",
    "    rec.units = unts_rate & unts_sw & unts_range\n",
    "    rec.trials = trls_range\n",
    "\n",
    "# features and targets \n",
    "X, Y = utl.get_xy(rec1, rec2=rec2, bin_size=bin_size)"
   ]
  },
  {
   "cell_type": "code",
   "execution_count": null,
   "metadata": {},
   "outputs": [],
   "source": [
    "# ridge\n",
    "# lin_scores = utl.linear_regression(X, Y)\n",
    "ridge_mods = utl.ridge_regression(X, Y, alphas=np.logspace(-3, 3, 100))\n",
    "ridge_mod = ridge_mods.best_estimator_\n",
    "utl.plot_gridsearch(ridge_mods, 'param_mod__alpha')"
   ]
  },
  {
   "cell_type": "code",
   "execution_count": null,
   "metadata": {},
   "outputs": [],
   "source": [
    "# RRR\n",
    "rr_mods = utl.reduced_rank_regression(X, Y, Y.shape[1])\n",
    "rr_mod = rr_mods.best_estimator_\n",
    "utl.plot_gridsearch(rr_mods, 'param_mod__r', logscale=False)"
   ]
  },
  {
   "cell_type": "markdown",
   "metadata": {},
   "source": [
    "# ALM-Thal"
   ]
  },
  {
   "cell_type": "code",
   "execution_count": null,
   "metadata": {},
   "outputs": [],
   "source": [
    "# imec0: Thal\n",
    "rec2 = Recording('./data/zidan/ALM_Thal/ZY113_20220617/ZY113_20220617_NPH2_g0_JRC_units.mat')\n",
    "rec1 = Recording('./data/zidan/ALM_Thal/ZY113_20220617/ZY113_20220617_NPH2_g0_imec0_JRC_units.mat')\n",
    "\n",
    "# process\n",
    "for rec in [rec1, rec2]:\n",
    "\n",
    "    # bin spikes\n",
    "    p_prq = rec._path_name(f'bin{bin_size}.parquet')\n",
    "    df = rec._assign_df(p_prq, rec._calculate_psth, {'bin_size': bin_size})\n",
    "    df = utl.rate_and_time(df, bin_size)\n",
    "\n",
    "    # filter units/trials\n",
    "    unts_rate = utl.filter_rates(df, thresh_rate)\n",
    "    unts_sw = utl.filter_spike_width(rec.df_unt, thresh_sw)\n",
    "\n",
    "    m = rec.df_unt.loc[:, 'unit'].isin(unts_rate & unts_sw)\n",
    "    unts_range, trls_range = utl.filter_trials(rec.df_unt.loc[m], thresh=thresh_trials, plot=False)\n",
    "\n",
    "    rec.units = unts_rate & unts_sw & unts_range\n",
    "    rec.trials = trls_range\n",
    "\n",
    "# features and targets \n",
    "X, Y = utl.get_xy(rec1, rec2=rec2, bin_size=bin_size)"
   ]
  },
  {
   "cell_type": "code",
   "execution_count": null,
   "metadata": {},
   "outputs": [],
   "source": [
    "# ridge\n",
    "# lin_scores = utl.linear_regression(X, Y)\n",
    "ridge_mods = utl.ridge_regression(X, Y, alphas=np.logspace(-4, 4, 100))\n",
    "ridge_mod = ridge_mods.best_estimator_\n",
    "utl.plot_gridsearch(ridge_mods, 'param_mod__alpha')"
   ]
  },
  {
   "cell_type": "code",
   "execution_count": null,
   "metadata": {},
   "outputs": [],
   "source": [
    "# RRR\n",
    "rr_mods = utl.reduced_rank_regression(X, Y, Y.shape[1])\n",
    "rr_mod = rr_mods.best_estimator_\n",
    "utl.plot_gridsearch(rr_mods, 'param_mod__r', logscale=False)"
   ]
  },
  {
   "attachments": {},
   "cell_type": "markdown",
   "metadata": {},
   "source": [
    "# local batch processing"
   ]
  },
  {
   "cell_type": "code",
   "execution_count": null,
   "metadata": {},
   "outputs": [],
   "source": [
    "# TODO\n",
    "p_mats = Path('./data/zidan/').glob('**/*.mat')\n",
    "\n",
    "bin_size = 0.1\n",
    "\n",
    "for p_mat in p_mats:\n",
    "    print(p_mat)\n",
    "    rec = Recording(p_mat)\n",
    "\n",
    "    p_out = rec._path_name(f'bin{bin_size}.parquet')\n",
    "    df = rec._assign_df(p_out, rec._calculate_psth, {'align': None, 'bin_size': bin_size})\n",
    "\n",
    "    df = utl.smooth_psth(df, 1, bin_size)\n",
    "    p_png = rec._path_name(f'bin{bin_size}.png')\n",
    "    utl.plot_missing(df, bin_size, path=p_png, vmax=5)\n",
    "    \n"
   ]
  },
  {
   "cell_type": "markdown",
   "metadata": {},
   "source": [
    "# remote batch processing"
   ]
  },
  {
   "cell_type": "code",
   "execution_count": null,
   "metadata": {},
   "outputs": [],
   "source": [
    "# batch process all recordings\n",
    "\n",
    "p = Path(r'X:\\Users\\Zidan\\DataForNico')\n",
    "\n",
    "if p.is_file():\n",
    "    for p_mat in p.glob('**/*mat'):\n",
    "        \n",
    "        # load recording and create missing dataframes\n",
    "        print(p_mat)\n",
    "        rec = Recording(p_mat)\n",
    "        \n",
    "        # plot PSTH\n",
    "        rec.plot_psth(xlims=(-1.5, 2), filter_size=50, path=rec.path_psth.with_suffix('.png'))"
   ]
  },
  {
   "cell_type": "markdown",
   "metadata": {},
   "source": [
    "# other"
   ]
  },
  {
   "cell_type": "markdown",
   "metadata": {},
   "source": [
    "## raw vs trial"
   ]
  },
  {
   "cell_type": "code",
   "execution_count": null,
   "metadata": {},
   "outputs": [],
   "source": [
    "p = './data/zidan/ALM_ALM/MK22_20230301/MK22_20230301_2H2_g0_JRC_units_probe2.mat'\n",
    "rec = Recording(p, force_overwrite=True)\n",
    "\n",
    "from scipy.io import loadmat\n",
    "m = loadmat(p, squeeze_me=True, struct_as_record=False)\n",
    "\n",
    "import matplotlib.pylab as plt\n",
    "import seaborn as sns"
   ]
  },
  {
   "cell_type": "code",
   "execution_count": null,
   "metadata": {},
   "outputs": [],
   "source": [
    "df = pd.DataFrame()\n",
    "\n",
    "for i, u in enumerate(m['unit']):\n",
    "    t = vars(u)['RawSpikeTimes']\n",
    "\n",
    "    d = pd.DataFrame(data={\n",
    "        'T': t,\n",
    "        'unit': i + 1,\n",
    "    })\n",
    "\n",
    "\n",
    "    df = pd.concat([df, d], ignore_index=True)\n",
    "\n",
    "raw = df.loc[ df.loc[:, 'unit'] == 1 ].loc[:, 'T'].values"
   ]
  },
  {
   "cell_type": "code",
   "execution_count": null,
   "metadata": {},
   "outputs": [],
   "source": [
    "spk = vars(m['unit'][0])['SpikeTimes']\n",
    "idx = vars(m['unit'][0])['Trial_idx_of_spike']"
   ]
  },
  {
   "cell_type": "code",
   "execution_count": null,
   "metadata": {},
   "outputs": [],
   "source": [
    "t0s = np.array([vars(i)['onset'] for i in m['trial_info']]) / 2.5e4\n",
    "behavior = vars(vars(m['unit'][0])['Behavior'])\n",
    "t_lck = behavior['First_lick']\n",
    "t_cue = behavior['Sample_start']"
   ]
  },
  {
   "cell_type": "code",
   "execution_count": null,
   "metadata": {},
   "outputs": [],
   "source": [
    "sns.histplot(t_cue - t_lck)"
   ]
  },
  {
   "cell_type": "code",
   "execution_count": null,
   "metadata": {},
   "outputs": [],
   "source": [
    "fig, ax = plt.subplots(figsize=(10, 4))\n",
    "\n",
    "for i in range(2, 30):\n",
    "    mask = idx == i\n",
    "    s = spk[mask]\n",
    "\n",
    "\n",
    "    # t0 = df_trl.loc[ df_trl.loc[:, 'trial'] == i ].loc[:, 'T_0'].item()\n",
    "    l = t_lck[i + 1]\n",
    "    c = t_cue[i + 1]\n",
    "    t0 = t0s[i-1]\n",
    "    mask = (s > (c-2)) & (s < ( l + 2) )\n",
    "    s = s[mask]\n",
    "\n",
    "    ax.axvline(t0, c='C0', ls=':', lw=1)\n",
    "    ax.axvline(t0 + c, c='C1', ls=':', lw=1)\n",
    "    ax.axvline(l + t0, c='C2', ls=':', lw=1)\n",
    "\n",
    "    ax.eventplot(s + t0, lineoffsets=i, color=f'C{i}')\n",
    "\n",
    "mask = raw < 300\n",
    "ax.eventplot(raw[mask], lineoffsets=i + 1, ls='-')\n",
    "\n",
    "ax.set_xlabel('times [s]')\n",
    "ax.set_ylabel('trial index')\n",
    "ax.set_xlim((0, 60))"
   ]
  },
  {
   "cell_type": "markdown",
   "metadata": {},
   "source": [
    "## new spike processing"
   ]
  },
  {
   "cell_type": "code",
   "execution_count": null,
   "metadata": {},
   "outputs": [],
   "source": [
    "p = './data/zidan/ALM_ALM/MK22_20230301/MK22_20230301_2H2_g0_JRC_units_probe2.mat'\n",
    "rec = Recording(p, force_overwrite=False)"
   ]
  },
  {
   "cell_type": "code",
   "execution_count": null,
   "metadata": {},
   "outputs": [],
   "source": [
    "fig, ax = plt.subplots()\n",
    "\n",
    "df = rec.df_spk.groupby('unit').get_group(14)\n",
    "for trl, d in df.groupby('trial'):\n",
    "    x = d.loc[:, 't'].values\n",
    "    ax.eventplot(x, lineoffsets=trl)\n",
    "ax.set_xlim((-1, 4))\n",
    "ax.set_ylim((0, 300))"
   ]
  },
  {
   "cell_type": "code",
   "execution_count": null,
   "metadata": {},
   "outputs": [],
   "source": [
    "fig, ax = plt.subplots()\n",
    "\n",
    "df = rec.df_spk.groupby('unit').get_group(14)\n",
    "for trl, d in df.groupby('trial'):\n",
    "    x = d.loc[:, 't'].values\n",
    "    ax.eventplot(x, lineoffsets=trl)\n",
    "ax.set_xlim((-1, 4))\n",
    "# ax.set_ylim((0, 300))"
   ]
  },
  {
   "cell_type": "code",
   "execution_count": null,
   "metadata": {},
   "outputs": [],
   "source": [
    "# rec.df_spk = rec._load_spike_times()\n",
    "# rec.df_psth = rec._calculate_psth()\n",
    "rec.plot_psth(unts=[14], xlims=(-1, 6))"
   ]
  },
  {
   "cell_type": "code",
   "execution_count": null,
   "metadata": {},
   "outputs": [],
   "source": [
    "rec.df_spk = rec._load_spike_times()\n",
    "print('loaded')\n",
    "rec.df_psth = rec._calculate_psth()\n",
    "print('loaded')\n",
    "rec.plot_psth(unts=[14], xlims=(-1, 1))"
   ]
  },
  {
   "cell_type": "code",
   "execution_count": null,
   "metadata": {},
   "outputs": [],
   "source": []
  }
 ],
 "metadata": {
  "kernelspec": {
   "display_name": "cupy",
   "language": "python",
   "name": "python3"
  },
  "language_info": {
   "codemirror_mode": {
    "name": "ipython",
    "version": 3
   },
   "file_extension": ".py",
   "mimetype": "text/x-python",
   "name": "python",
   "nbconvert_exporter": "python",
   "pygments_lexer": "ipython3",
   "version": "3.11.4"
  },
  "orig_nbformat": 4
 },
 "nbformat": 4,
 "nbformat_minor": 2
}
