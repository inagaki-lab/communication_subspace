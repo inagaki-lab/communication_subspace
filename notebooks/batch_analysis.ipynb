{
 "cells": [
  {
   "cell_type": "code",
   "execution_count": null,
   "id": "db17f889",
   "metadata": {
    "lines_to_next_cell": 2
   },
   "outputs": [],
   "source": [
    "%load_ext autoreload\n",
    "%autoreload 2\n",
    "\n",
    "from pathlib import Path\n",
    "from src import (\n",
    "    batch_helpers as bh,\n",
    "    visualization as vis\n",
    ")\n",
    "from src.probe import ZProbe, YProbe"
   ]
  },
  {
   "cell_type": "markdown",
   "id": "08e2fc69",
   "metadata": {},
   "source": [
    "# Analysis of multiple recordings\n",
    "\n",
    "This workflow explains how to efficiently process multiple recordings.\n",
    "\n",
    "\n",
    "## Interaction between probes\n",
    "We assume that each recording is stored in a separate folder.\n",
    "Each folder contains two matlab files that contain data simultaneously recorded\n",
    "from two probes\n",
    "\n",
    "For each recording, we want to calculate the following interactions:\n",
    "- probe A -> probe B\n",
    "- probe B -> probe A\n",
    "- within probe A\n",
    "- within probe B\n",
    "\n",
    "Here, we define a list of folders that we want to analyze\n",
    "using the `glob` function.\n",
    "You can also define a list of folder names manually."
   ]
  },
  {
   "cell_type": "code",
   "execution_count": null,
   "id": "880d9c17",
   "metadata": {},
   "outputs": [],
   "source": [
    "# select all subfolder\n",
    "p_root = Path(r'C:\\temp\\dual_ephys\\ALM_STR')\n",
    "p_dirs = [ p for p in p_root.glob('*/') if p.is_dir() ]\n",
    "p_dirs"
   ]
  },
  {
   "cell_type": "markdown",
   "id": "c19186b1",
   "metadata": {},
   "source": [
    "### Define probe names\n",
    "To make the output more readable and to avoid confusion,\n",
    "we define short name for each probe/matlab file using the `probe_names` dictionary.\n",
    "If this dictionary is not defined, the names will be set to `proA` and `proB` by default."
   ]
  },
  {
   "cell_type": "code",
   "execution_count": null,
   "id": "107540c4",
   "metadata": {},
   "outputs": [],
   "source": [
    "probe_names = {\n",
    "    'MK22_20230301_2H2_g0_JRC_units_probe1.mat' : 'ALM1',\n",
    "    'MK22_20230301_2H2_g0_JRC_units_probe2.mat' : 'ALM2',\n",
    "    'MK22_20230303_2H2_g0_JRC_units_probe1.mat' : 'ALM1',\n",
    "    'MK22_20230303_2H2_g0_JRC_units_probe2.mat' : 'ALM2',\n",
    "    'MK25_20230314_2H2_g0_JRC_units_probe1.mat' : 'ALM1',\n",
    "    'MK25_20230314_2H2_g0_JRC_units_probe2.mat' : 'ALM2',\n",
    "    'ZY78_20211015NP_g0_imec0_JRC_units.mat'    : 'STR',\n",
    "    'ZY78_20211015NP_g0_JRC_units.mat'          : 'ALM',\n",
    "    'ZY82_20211028NP_g0_imec0_JRC_units.mat'    : 'STR',\n",
    "    'ZY82_20211028NP_g0_JRC_units.mat'          : 'ALM',\n",
    "    'ZY83_20211108NP_g0_imec0_JRC_units.mat'    : 'STR',\n",
    "    'ZY83_20211108NP_g0_JRC_units.mat'          : 'ALM',\n",
    "    'ZY113_20220617_NPH2_g0_imec0_JRC_units.mat': 'THA',\n",
    "    'ZY113_20220617_NPH2_g0_JRC_units.mat'      : 'ALM',\n",
    "    'ZY113_20220618_NPH2_g0_imec0_JRC_units.mat': 'THA',\n",
    "    'ZY113_20220618_NPH2_g0_JRC_units.mat'      : 'ALM',\n",
    "    'ZY113_20220620_NPH2_g0_imec0_JRC_units.mat': 'THA',\n",
    "    'ZY113_20220620_NPH2_g0_JRC_units.mat'      : 'ALM',\n",
    "}"
   ]
  },
  {
   "cell_type": "markdown",
   "id": "96398e7e",
   "metadata": {},
   "source": [
    "### Run analysis\n",
    "\n",
    "We finally run the analysis using the `analyze_interactions` function.\n",
    "We define an output folder with `out_dir` where the results will be stored.\n",
    "This way, we try different parameter sets for the same data.\n",
    "\n",
    "Because the matlab files are in the `Z` unit structure, we pass the `ZProbe` class as the `probe_class` argument.\n",
    "We also pass the `lick_group` argument to this class via `probe_kwargs`.\n"
   ]
  },
  {
   "cell_type": "code",
   "execution_count": null,
   "id": "b3f6fc86",
   "metadata": {},
   "outputs": [],
   "source": [
    "# define parameters (see example notebook for more details)\n",
    "params = {\n",
    "    'bin_size': 0.2,\n",
    "    'rate_src': (1, None), \n",
    "    'rate_trg': (1, None),\n",
    "    'spike_width_src': (None, None), \n",
    "    'spike_width_trg': (  .5, None),\n",
    "    'trial_overlap': 0.9,             \n",
    "    'first_lick' : (None, None),\n",
    "    'type_incl': [ 'l_n', ],\n",
    "    'scoring': 'r2',\n",
    "    'subtract_baseline': True,\n",
    "    'min_units_src': 5,\n",
    "    'lick_groups': [ 0, 0.6, 1.2, 2.4, 4.8 ],\n",
    "}\n",
    "epochs = {\n",
    "    'all'       : (None, None, 'cue'), \n",
    "    'pre_cue'   : (-.6,  .0,   'cue'),\n",
    "    'post_cue1' : ( .0,  .6,   'cue'),\n",
    "    'post_cue2' : ( .6, 1.2,   'cue'),\n",
    "    'pre_lick'  : (-.6,  .0,  'lick'),\n",
    "    'post_lick' : ( .0,  .6,  'lick'),\n",
    "}\n",
    "\n",
    "# run analysis\n",
    "bh.analyze_interactions_probes(\n",
    "    p_dirs=p_dirs,\n",
    "    params=params,\n",
    "    probe_class=ZProbe,\n",
    "    probe_kwargs={'lick_groups': params['lick_groups']},\n",
    "    epochs=epochs,\n",
    "    probe_names=probe_names,\n",
    "    out_dir='analysis/some_parameters'\n",
    ")"
   ]
  },
  {
   "cell_type": "markdown",
   "id": "88235ffe",
   "metadata": {},
   "source": [
    "### Y unit structure\n",
    "Alternatively, we can analyze the interactions between probes for data stored in the `Y` unit structure.\n",
    "The procedure is the same as above, with the following differences:\n",
    "- we pass the `YProbe` class as the `probe_class` argument, instead of `ZProbe`\n",
    "- we do not pass the `lick_group` argument to the `probe_kwargs` dictionary, because `YProbe` does not use this\n",
    "- we removed all lick-related entries from `epochs` and `params`\n",
    "- we have not defined the `probe_names` dictionary, so the default names `proA` and `proB` will be used"
   ]
  },
  {
   "cell_type": "code",
   "execution_count": null,
   "id": "ba25e5e8",
   "metadata": {},
   "outputs": [],
   "source": [
    "p_dirs = [ Path(r'C:\\temp\\trip_ephys') ]\n",
    "\n",
    "params = {\n",
    "    'bin_size': 0.2,\n",
    "    'rate_src': (1, None), \n",
    "    'rate_trg': (1, None),\n",
    "    'spike_width_src': (None, None), \n",
    "    'spike_width_trg': (  .5, None),\n",
    "    'trial_overlap': 0.9,             \n",
    "    'type_incl': [ 'l_n', ],\n",
    "    'scoring': 'r2',\n",
    "    'subtract_baseline': True,\n",
    "    'min_units_src': 5,\n",
    "}\n",
    "epochs = {\n",
    "    'all'       : (None, None, 'cue'), \n",
    "    'pre_cue'   : (-.6,  .0,   'cue'),\n",
    "    'post_cue1' : ( .0,  .6,   'cue'),\n",
    "    'post_cue2' : ( .6, 1.2,   'cue'),\n",
    "}\n",
    "\n",
    "# run analysis\n",
    "bh.analyze_interactions_probes(p_dirs=p_dirs,\n",
    "                        params=params,\n",
    "                        probe=YProbe,\n",
    "                        epochs=epochs,\n",
    "                        out_dir='analysis/some_parameters')"
   ]
  },
  {
   "cell_type": "markdown",
   "id": "050ec6b8",
   "metadata": {},
   "source": [
    "### Analyzing the output\n",
    "The output folder contains four folders containing the different predictions of activity:\n",
    "- `proA_proB`: neurons in probe A -> probe B\n",
    "- `proB_proA`: neurons in probe B -> probe A\n",
    "- `proA`: subset of neurons in probe A ->  probe A\n",
    "- `proB`: subset of neurons in probe B ->  probe B\n",
    "\n",
    "Each of these folders contains the following files:\n",
    "- `params.json`: the `params` dictionary used for the analysis\n",
    "- `epochs.json`: the `epochs` dictionary used for the analysis\n",
    "- in a separate subfolder for each epoch:\n",
    "    - `reg_ridge.png`: hyperparameter selection for ridge regression\n",
    "    - `reg_rrr.png`: hyperparameter selection for reduced-rank regression\n",
    "    - `pred_ridge.png`: PSTHs for all target neurons (actual data and ridge regression prediction)\n",
    "    - `pred_ridge_scores.csv`: scores for all units in `pred_ridge.png`\n",
    "    - `*.parquet`: raw data for CV folds in linear, ridge, and reduced-rank regression\n",
    "\n",
    "Note that analysis will be skipped if `params.json` is already present,\n",
    "so you can rerun the analysis by deleting this file.\n",
    "\n",
    "See `src.batch_helpers.processing_wrapper` for more details how the analysis is run.\n",
    "\n",
    "## Interaction between areas\n",
    "Here we are loading multiple probes and merge them into a single recording object (see `example.py` for details).\n",
    "We define a list of folders as `p_dirs` each of which contain multiple matlab files from the same session.\n",
    "We also need to define two sets of area codes in the `params` dictionary.\n",
    "\n",
    "Note that area codes are only available in the `Y` unit structure, not in `Z`."
   ]
  },
  {
   "cell_type": "code",
   "execution_count": null,
   "id": "98694cf8",
   "metadata": {
    "lines_to_next_cell": 2
   },
   "outputs": [],
   "source": [
    "p_dirs = [ Path(r'C:\\temp\\trip_ephys') ]\n",
    "p_dirs\n",
    "\n",
    "params = {\n",
    "    'bin_size': 0.2,\n",
    "    'rate_src': (1, None), \n",
    "    'rate_trg': (1, None),\n",
    "    'spike_width_src': (None, None), \n",
    "    'spike_width_trg': (  .5, None),\n",
    "    'trial_overlap': 0.9,             \n",
    "    'type_incl': [ 'l_n', ],\n",
    "    'scoring': 'r2',\n",
    "    'subtract_baseline': True,\n",
    "    'min_units_src': 5,\n",
    "    'area_code_A': [7, 8],\n",
    "    'area_code_B': [3, 17],\n",
    "}\n",
    "epochs = {\n",
    "    'all'       : (None, None, 'cue'), \n",
    "    'pre_cue'   : (-.6,  .0,   'cue'),\n",
    "    'post_cue1' : ( .0,  .6,   'cue'),\n",
    "    'post_cue2' : ( .6, 1.2,   'cue'),\n",
    "}\n",
    "\n",
    "bh.analyze_interactions_areas(\n",
    "    p_dirs=p_dirs,\n",
    "    params=params,\n",
    "    probe_class=YProbe,\n",
    "    epochs=epochs,\n",
    "    out_dir='analysis/default_params_A_B'\n",
    ")"
   ]
  },
  {
   "cell_type": "markdown",
   "id": "389a0195",
   "metadata": {},
   "source": [
    "\n",
    "## Different parameter sets\n",
    "We can easily run the analyses described above with different parameters and \n",
    "save the results in different folders.\n",
    "\n",
    "Here, we load two parameter sets that we defined in the file `batch_parameter_sets.yml`.\n",
    "Note that the syntax in the YML file is slightly different from the python syntax.\n",
    "The two sets only differ in the `subtract_baseline` parameter, therefore,\n",
    "we can investigate the effect of baseline subtraction by comparing the results."
   ]
  },
  {
   "cell_type": "code",
   "execution_count": null,
   "id": "fc2c3c3e",
   "metadata": {
    "lines_to_next_cell": 2
   },
   "outputs": [],
   "source": [
    "# load parameter sets\n",
    "param_sets = bh.load_yml('./batch_parameter_sets.yml')\n",
    "\n",
    "# use the same epochs for all parameter sets\n",
    "epochs = {\n",
    "    'all'       : (None, None, 'cue'), \n",
    "    'pre_cue'   : (-.6,  .0,   'cue'),\n",
    "    'post_cue1' : ( .0,  .6,   'cue'),\n",
    "    'post_cue2' : ( .6, 1.2,   'cue'),\n",
    "    'pre_lick'  : (-.6,  .0,  'lick'),\n",
    "    'post_lick' : ( .0,  .6,  'lick'),\n",
    "}\n",
    "\n",
    "# loop over parameter sets\n",
    "for name, params in param_sets.items():\n",
    "    print(f'>>>> now running parameter set {name}')\n",
    "    bh.analyze_interactions(\n",
    "        p_dirs=p_dirs,\n",
    "        params=params,\n",
    "        probe=ZProbe,\n",
    "        epochs=epochs,\n",
    "        probe_names=probe_names,\n",
    "        out_dir=f'analysis/{name}'\n",
    "    )"
   ]
  },
  {
   "cell_type": "markdown",
   "id": "fcdd0b92",
   "metadata": {},
   "source": [
    "# Compare results\n",
    "\n",
    "Here we load:\n",
    "- scores from the ridge regression predictions (`pred_ridge_scores.csv`)\n",
    "- optimal rank for the reduced rank regression (`reg_rrr.parquet`)\n",
    "\n",
    "The results are compiled into a single dataframe.\n",
    "Note that this selection inclues all recordings under the `p_root`."
   ]
  },
  {
   "cell_type": "code",
   "execution_count": null,
   "id": "e79ef40a",
   "metadata": {},
   "outputs": [],
   "source": [
    "# select scores for each paramter set\n",
    "p_root = Path(r'C:\\temp\\dual_ephys')\n",
    "p_scores = [ *p_root.glob('**/pred_ridge_scores.csv') ]\n",
    "scores = bh.load_scores(p_scores)\n",
    "scores"
   ]
  },
  {
   "cell_type": "markdown",
   "id": "22da8487",
   "metadata": {},
   "source": [
    "## Compare scores across parameter sets\n",
    "\n",
    "Here we compare the parameter sets `params_1` and `params_2` that we created in the previous notebook.\n",
    "For this we select a subste of the scores:\n",
    "- only parameter sets `params_1` and `params_2`\n",
    "- only epoch `all`\n",
    "- only probes `ALM_STR`\n",
    "\n",
    "\n",
    "The two parameter sets differ only in the `subtract_baseline` parameter.\n",
    "We add an additional column to the `scores` dataframe to use as hue in plotting.\n",
    "\n",
    "Note, that to compare parameter sets for just one animal/recording,\n",
    "choose `p_root` accordingly, or pass e.g. `col='animal'` to the plotting function."
   ]
  },
  {
   "cell_type": "code",
   "execution_count": null,
   "id": "5011d1a8",
   "metadata": {},
   "outputs": [],
   "source": [
    "# subset scores dataframe\n",
    "idx1 = scores.loc[:, 'settings'].isin(['params_1', 'params_2'])\n",
    "idx2 = scores.loc[:, 'epoch'].eq('all')\n",
    "idx3 = scores.loc[:, 'probes'].eq('ALM_STR')\n",
    "df = scores.loc[idx1 & idx2 & idx3, :].copy()\n",
    "\n",
    "# create new column `subtract_baseline`\n",
    "d = {'params_1': 'yes', 'params_2': 'no'}\n",
    "df.loc[:, 'subtract_baseline'] = df.loc[:, 'settings'].map(d)\n",
    "\n",
    "# plot\n",
    "vis.plot_box_and_points(df, x='interaction', y='score', hue='subtract_baseline')"
   ]
  },
  {
   "cell_type": "markdown",
   "id": "6b8aa813",
   "metadata": {},
   "source": [
    "## Compare scores across epochs\n",
    "\n",
    "To compare epochs, we select a subset of the scores:\n",
    "- only parameter set `params_1`\n",
    "- only epochs defined in `l_epochs`\n",
    "- only probes `ALM_STR`\n",
    "\n",
    "When we pass `hue_order=l_epochs` to the plotting function, we can define their oder\n",
    "in the plot."
   ]
  },
  {
   "cell_type": "code",
   "execution_count": null,
   "id": "d2159af1",
   "metadata": {},
   "outputs": [],
   "source": [
    "# subset scores dataframe\n",
    "l_epochs = ['all', 'pre_lick', 'post_lick']\n",
    "idx1 = scores.loc[:, 'settings'].eq('params_1')\n",
    "idx2 = scores.loc[:, 'epoch'].isin(l_epochs)\n",
    "idx3 = scores.loc[:, 'probes'].eq('ALM_STR')\n",
    "df = scores.loc[idx1 & idx2 & idx3, :].copy()\n",
    "\n",
    "# plot\n",
    "vis.plot_box_and_points(df, x='interaction', y='score', hue='epoch', hue_order=l_epochs)"
   ]
  },
  {
   "cell_type": "markdown",
   "id": "01cfc7d4",
   "metadata": {},
   "source": [
    "## Compare scores across sessions\n",
    "\n",
    "To compare sessions, we select a subset of the scores:\n",
    "- only parameter set `params_1`\n",
    "- only epoch `all`"
   ]
  },
  {
   "cell_type": "code",
   "execution_count": null,
   "id": "4ae199a4",
   "metadata": {},
   "outputs": [],
   "source": [
    "# subset scores dataframe\n",
    "idx1 = scores.loc[:, 'settings'].eq('params_1')\n",
    "idx2 = scores.loc[:, 'epoch'].eq('all')\n",
    "df = scores.loc[idx1 & idx2, :].copy()\n",
    "\n",
    "# plot\n",
    "vis.plot_box_and_points(df, x='probes', y='score', hue='animal')"
   ]
  },
  {
   "cell_type": "markdown",
   "id": "bfa99f45",
   "metadata": {},
   "source": [
    "## Compare optimal rank across brain regions"
   ]
  },
  {
   "cell_type": "code",
   "execution_count": null,
   "id": "938d13cf",
   "metadata": {},
   "outputs": [],
   "source": [
    "# subselection of dataframe\n",
    "idx1 = scores.loc[:, 'settings'].eq('params_1')\n",
    "idx2 = scores.loc[:, 'epoch'].eq('all')\n",
    "df = scores.loc[idx1 & idx2, :].copy()\n",
    "\n",
    "# select only one of the units\n",
    "df = scores.groupby(['recording', 'interaction']).first().reset_index()\n",
    "\n",
    "vis.plot_opt_ranks(df)"
   ]
  }
 ],
 "metadata": {
  "jupytext": {
   "cell_metadata_filter": "-all",
   "custom_cell_magics": "kql"
  },
  "kernelspec": {
   "display_name": "ml",
   "language": "python",
   "name": "python3"
  }
 },
 "nbformat": 4,
 "nbformat_minor": 5
}
