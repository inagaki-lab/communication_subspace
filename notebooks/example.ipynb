{
 "cells": [
  {
   "cell_type": "code",
   "execution_count": null,
   "id": "0d411515",
   "metadata": {},
   "outputs": [],
   "source": [
    "%load_ext autoreload\n",
    "%autoreload 2\n",
    "import numpy as np\n",
    "import pandas as pd \n",
    "from pathlib import Path\n",
    "\n",
    "from src.recording import Recording\n",
    "from src.probe import ZProbe, YProbe\n",
    "from src import (\n",
    "    recording_operations as rec_ops,\n",
    "    visualization as vis,\n",
    "    regression_models as reg,\n",
    ")"
   ]
  },
  {
   "cell_type": "markdown",
   "id": "6b3072bf",
   "metadata": {},
   "source": [
    "# User settings\n",
    "The user can define settings via the `params`, `epochs`, and `trial_types` dictionaries.\n",
    "\n",
    "\n",
    "The `params` dictionary controls the following:\n",
    "\n",
    "- `bin_size : float` \\\n",
    "Bin size in seconds\n",
    "- `rate_src : (float, float)`\\\n",
    "Rate range filter in Hz applied to the source (src) population\n",
    "- `rate_trg : (float, float)`\\\n",
    "Rate range filter in Hz applied to the target (trg) population\n",
    "- `spike_width_src : (float, float)`\\\n",
    "Spike width filter in ms applied to the source (src) population\n",
    "- `spike_width_trg : (float, float)`\\\n",
    "Spike width filter in ms applied to the target (trg) population\n",
    "- `trial_overlap : float`\\\n",
    "Percentage of trials filter applied to neurons.\n",
    "Since the valid trial range for individual neurons may differ greatly, \n",
    "we choose a fraction of trials that we want to keep (0.9 = 90 %).\n",
    "Then, we drop neurons until the remaining neurons cover at least\n",
    "this fraction of the maximum available trial range.\n",
    "- `type_incl: list of str`\\\n",
    "Trial type filter applied to trials.\n",
    "Strings are matched with beginning of `unit(1).Behavior.stim_type_name` strings.\n",
    "Set empty list to include all trials.\n",
    "- `scoring : str`\\\n",
    "Score reported in the output.\n",
    "Click\n",
    "[here](https://scikit-learn.org/stable/modules/model_evaluation.html) to see available scorers.\n",
    "Note that the definition of the score does not affect\n",
    "definition of the loss function, but only the evaluation of the cross-validation. \n",
    "- `subtract_baseline : bool`\\\n",
    "whether or not to subtract baseline.\n",
    "This subtracts the average firing rate during pre cue period per trial\n",
    "- `min_units_src : int`\\\n",
    "Minimum number of units in source population.\n",
    "This will skip the analysis in batch mode.\n",
    "\n",
    "Note that when defining intervals `(float, float)`, set one of the values to `None`\n",
    "for no upper/lower limit.\n",
    "\n",
    "## settings specific to ZProbe\n",
    "For the `Z` unit structure matlab file, the following settings are available:\n",
    "- `first_lick : (float, float)`\\\n",
    "Lick time filter in seconds applied to trials.\n",
    "This is the time of the first lick relative to cue onset.\n",
    "- `lick_groups: list of float`\\\n",
    "Define intervals of lick times in seconds relative to cue for trial classification.\n",
    "\n",
    "## Settings specific to YProbe\n",
    "For the `Y` unit structure matlab file, the following settings are available:\n",
    "- `only_good`: bool\\\n",
    "Whether to include only good units (`GoodUnits == 1`).\n",
    "- `area_code_A: int or set of int`\\\n",
    "Aread code(s) to include one population.\n",
    "- `area_code_B: int or set of int`\\\n",
    "Aread code(s) to include in the other population.\n",
    "\n",
    "Note to compare a subset of units within the same area code(s), set \n",
    "`area_code_A` and `area_code_B` to the same value(s).\n"
   ]
  },
  {
   "cell_type": "code",
   "execution_count": null,
   "id": "58c83402",
   "metadata": {},
   "outputs": [],
   "source": [
    "# parameters for all unit structures\n",
    "params_global = {\n",
    "    'bin_size': 0.2,\n",
    "    'rate_src': (1, None), \n",
    "    'rate_trg': (1, None),\n",
    "    'spike_width_src': (None, None), \n",
    "    'spike_width_trg': (  .5, None),\n",
    "    'trial_overlap': 0.0,             \n",
    "    'type_incl': [ 'l_n', ],\n",
    "    'scoring': 'r2',\n",
    "    'subtract_baseline': True,\n",
    "    'min_units_src': 5,\n",
    "}\n",
    "\n",
    "# parameters for Z unit structure\n",
    "params_z = params_global.copy()\n",
    "params_z.update({\n",
    "    'first_lick' : (None, None),\n",
    "    'lick_groups': [ 0, 0.6, 1.2, 2.4, 4.8 ],\n",
    "})\n",
    "\n",
    "# parameters for Y unit structure\n",
    "params_y = params_global.copy()\n",
    "params_y.update({\n",
    "    'only_good' : True,\n",
    "    'area_code_A': {7, 8},\n",
    "    'area_code_B': {3, 17},\n",
    "})"
   ]
  },
  {
   "cell_type": "markdown",
   "id": "a6e1a7f8",
   "metadata": {},
   "source": [
    "The `epochs` dictionary is used to define the time intervals of interest.\n",
    "The keys are the names of the epochs and the values `(start, end, alignment)`\n",
    "define the half-open intervals `[start, end)` in seconds\n",
    "and their alignment to the event of interest, such as cue or first lick.\n",
    "\n",
    "\n",
    "Default epoch `all` defined as `['cue' - 2 s, 'lick' + 2 s)`\n",
    "Note that settings no limit for either start or finish via `None` \n",
    "only works with cue-aligned epochs.\n",
    "\n",
    "\n",
    "Note that only complete bins are kept.\n",
    "For example, if bin_size = 0.2 and first_lick = 1.81,\n",
    "then the last bin in this trial is defined as `[1.98, 2.00)`.\n",
    "\n",
    "Note that lick times may fall between bins, because bins are aligned to cue\n"
   ]
  },
  {
   "cell_type": "code",
   "execution_count": null,
   "id": "96a68892",
   "metadata": {},
   "outputs": [],
   "source": [
    "epochs = {\n",
    "    'all'       : (None, None, 'cue'), \n",
    "    'pre_cue'   : (-.6,  .0,   'cue'),\n",
    "    'post_cue1' : ( .0,  .6,   'cue'),\n",
    "    'post_cue2' : ( .6, 1.2,   'cue'),\n",
    "    'pre_lick'  : (-.6,  .0,  'lick'),\n",
    "    'post_lick' : ( .0,  .6,  'lick'),\n",
    "}"
   ]
  },
  {
   "cell_type": "markdown",
   "id": "6baf5f60",
   "metadata": {},
   "source": [
    "# Data handling\n",
    "\n",
    "## Loading data \n",
    "Data from each synchronously recorded  matlab file is loaded into a separate `Probe` objects.\n",
    "\n",
    "The data is stored in the following pandas DataFrames:\n",
    "- `rec.df_trl`: trial information\n",
    "- `rec.df_unt`: unit/neuron information\n",
    "- `rec.df_spk`: spike times\n",
    "- `rec.df_bin`: spike times binned by `params['bin_size']`\n",
    "\n",
    "These `Probe` attributes are saved in a temporary folder,\n",
    "so they can be reused when testing different parameters.\n",
    "The name of the temporary folder can be controlled via the `tmp_dir` argument.\n",
    "To recalculate the intermediate results, either delete the temporary folder or set `force_overwrite=True`.\n",
    "\n",
    "## Loading data from `Z` unit structure\n",
    "Currently, the `Z` and `Y` unit structure matlab files are supported.\n",
    "To load `Z` matlab files, make sure use `ZProbe` class and `params_z` dictionary.\n",
    "\n"
   ]
  },
  {
   "cell_type": "code",
   "execution_count": null,
   "id": "2c3dc524",
   "metadata": {},
   "outputs": [],
   "source": [
    "# choose ZProbe\n",
    "Probe = ZProbe\n",
    "params = params_z\n",
    "\n",
    "# load individual probes\n",
    "data_root = Path(r'/home/nico/remmina/data/dual_ephys/')\n",
    "probe1 = Probe(data_root / 'ALM_STR/ZY78_20211015/ZY78_20211015NP_g0_JRC_units.mat',\n",
    "               lick_groups=params['lick_groups'], bin_size=0.001, force_overwrite=True)\n",
    "probe2 = Probe(data_root / 'ALM_STR/ZY78_20211015/ZY78_20211015NP_g0_imec0_JRC_units.mat',\n",
    "               lick_groups=params['lick_groups'], bin_size=0.001, force_overwrite=True)\n",
    "\n",
    "# combine probes into a recording with descriptive names\n",
    "probes = {\n",
    "    'ALM': probe1,\n",
    "    'STR': probe2,\n",
    "}\n",
    "rec = Recording(probes)\n",
    "\n",
    "# display trial information for ZProbe\n",
    "vis.plot_trial_infos_z(rec.df_trl)"
   ]
  },
  {
   "cell_type": "markdown",
   "id": "220929bd",
   "metadata": {},
   "source": [
    "### Selecting units based on probes\n",
    "For the communication subspace analysis, we need to select a source and a target population. \n",
    "The following example shows how set source and target populations based on which probe the \n",
    "neurons were recorded from. This is done via the `rec` object we just created:\\\n",
    "`rec.select_data_probes(probes_src, probes_trg, params)`\n",
    "\n",
    "Here, `probes_src` and `probes_trg` are either strings or lists of strings \n",
    "that must match the probe names we defined above.\n",
    "We can: \n",
    "- set `probes_src != probes_trg`  to study the interaction between two or more probes\n",
    "- set `probes_src == probes_trg`  to study the interaction between a random subsample of units within the same probe(s)\n",
    "\n",
    "Note when `probes_src != probes_trg`, the same probe name must not appear in both lists.\n",
    "\n",
    "At the same time, the `params` dictionary is used to filter the data based on the settings defined above.\n",
    "\n",
    "Finally, we can select a time interval of interest defined in the `epoch` dictionary with `select_epoch`.\n",
    "Note that epochs relative to the first lick are only available for `Z` probe data."
   ]
  },
  {
   "cell_type": "code",
   "execution_count": null,
   "id": "48bf24a3",
   "metadata": {},
   "outputs": [],
   "source": [
    "# select units and trials, and bin data\n",
    "X, Y = rec.select_data_probes('STR', 'ALM', params)\n",
    "\n",
    "# check if enough units are left is source recording (will skip calculation in batch mode)\n",
    "if len(X.columns) < params['min_units_src']:\n",
    "    print('WARNING: Too few units in source recording!')\n",
    "\n",
    "# # optional: filter some epoch\n",
    "# X = rec.select_epoch(X, epochs['pre_lick'])\n",
    "# Y = rec.select_epoch(Y, epochs['pre_lick'])"
   ]
  },
  {
   "cell_type": "markdown",
   "id": "4a66c849",
   "metadata": {},
   "source": [
    "### Loading data from `Y` unit structure\n",
    "Make sure to use `YProbe` class and `params_y` dictionary to load `Y` matlab files."
   ]
  },
  {
   "cell_type": "code",
   "execution_count": null,
   "id": "ac5cbd04",
   "metadata": {},
   "outputs": [],
   "source": [
    "# choose YProbe\n",
    "Probe = YProbe\n",
    "params = params_y\n",
    "\n",
    "data_root = Path(r'C:\\temp\\trip_ephys')\n",
    "\n",
    "probe1 = Probe(data_root / 'J44-20221008_g0_imec0_JRC_units.mat',\n",
    "               bin_size=params['bin_size'], force_overwrite=False)\n",
    "probe2 = Probe(data_root / 'J44-20221008_g0_imec1_JRC_units.mat',\n",
    "               bin_size=params['bin_size'], force_overwrite=False)\n",
    "probe3 = Probe(data_root / 'J44-20221008_g0_imec2_JRC_units.mat',\n",
    "               bin_size=params['bin_size'], force_overwrite=False)\n",
    "\n",
    "probes = {\n",
    "    'imec0': probe1,\n",
    "    'imec1': probe2,\n",
    "    'imec2': probe3,\n",
    "}\n",
    "rec = Recording(probes)\n",
    "\n",
    "# display trial information for YProbe\n",
    "vis.plot_trial_infos_y(rec.df_trl)"
   ]
  },
  {
   "cell_type": "markdown",
   "id": "94d852d3",
   "metadata": {},
   "source": [
    "### Selecting units based on area codes\n",
    "The selection is analogous to the probe-based selection, but we use:\\\n",
    "`rec.select_data_area_codes(area_code_A, area_code_B, params)`"
   ]
  },
  {
   "cell_type": "code",
   "execution_count": null,
   "id": "0b29e2c7",
   "metadata": {},
   "outputs": [],
   "source": [
    "# select units and trials, and bin data\n",
    "X, Y = rec.select_data_area_code(\n",
    "    area_code_src=params['area_code_A'], \n",
    "    area_code_trg=params['area_code_B'], \n",
    "    params=params)\n",
    "\n",
    "# check if enough units are left is source recording (will skip calculation in batch mode)\n",
    "if len(X.columns) < params['min_units_src']:\n",
    "    print('WARNING: Too few units in source recording!')\n",
    "\n",
    "# optional: filter some epoch\n",
    "X = rec.select_epoch(X, epochs['pre_cue'])\n",
    "Y = rec.select_epoch(Y, epochs['pre_cue'])"
   ]
  },
  {
   "cell_type": "markdown",
   "id": "9aa094e6",
   "metadata": {},
   "source": [
    "# Model fitting\n",
    "Now we use the `X` and `Y` data frames to fit some models; from now on we do not have to worry about the data handling anymore.\n",
    "The models predict the activity of the target population based on the activity of the source population.\n",
    "Each neuron in the target population is fitted independently and has therefore its own score.\n",
    "\n",
    "In this example, we use the baseline-subtracted firing rates `dfx_bin0` and `dfy_bin0` to fit the models.\n",
    "\n",
    "## Linear model\n",
    "The linear model is called via `ridge_regression` while setting the regularization parameter to zero.\n",
    "\n",
    "## Ridge regression\n",
    "We can do a hyperparameter search for the regularization parameter by passing, a list of values \n",
    "as the `alpha` argument to `ridge_regression`.\n",
    "\n",
    "`plot_gridsearch` plots the results of the hyperparameter search in blue\n",
    "and the score of the linear model in orange.\n",
    "Error bars are the standard deviation of the cross-validation scores.\n",
    "\n",
    "We can investigate how well the regression model predicts the activity of individual target neurons\n",
    "by first calculating the predictions with the `get_ypred` and then plotting the actual and predicted activity\n",
    "using the `plot_mean_response` function."
   ]
  },
  {
   "cell_type": "code",
   "execution_count": null,
   "id": "a1b98c1e",
   "metadata": {},
   "outputs": [],
   "source": [
    "# linear regression (= ridge with alpha=0)\n",
    "lin_mods = reg.ridge_regression(X, Y, scoring=params['scoring'], alphas=[0])\n",
    "lin_mod = lin_mods.best_estimator_\n",
    "\n",
    "# ridge\n",
    "ridge_mods = reg.ridge_regression(X, Y, scoring=params['scoring'], alphas=np.logspace(-13, 13, 27))\n",
    "ridge_mod = ridge_mods.best_estimator_\n",
    "vis.plot_gridsearch(ridge_mods, 'ridge', other_mods={'linear': lin_mods}, logscale=True)"
   ]
  },
  {
   "cell_type": "code",
   "execution_count": null,
   "id": "e88eb476",
   "metadata": {},
   "outputs": [],
   "source": [
    "# calculate and plot predictions\n",
    "Y_pred, scores = reg.get_ypred(X, Y, ridge_mod, scoring=params['scoring'])\n",
    "vis.plot_mean_response(Y, Y_pred, scores)"
   ]
  },
  {
   "cell_type": "markdown",
   "id": "5377d22a",
   "metadata": {},
   "source": [
    "## Reduced-rank regression\n",
    "In reduced-rank regression,\n",
    "we first calculate the least-squares solution and then project the weight matrix onto \n",
    "the first `rank` principal components. For more details, see `src.regression_models.RRRegressor`.\n",
    "\n",
    "`plot_gridsearch` now compares the linear model and the ridge regression with all \n",
    "ranks of the reduced-rank regression."
   ]
  },
  {
   "cell_type": "code",
   "execution_count": null,
   "id": "2b43cdc4",
   "metadata": {},
   "outputs": [],
   "source": [
    "# RRR\n",
    "rr_mods = reg.reduced_rank_regression(X, Y, scoring=params['scoring'])\n",
    "rr_mod = rr_mods.best_estimator_\n",
    "vis.plot_gridsearch(rr_mods, 'reduced rank', other_mods={'linear': lin_mods, 'ridge': ridge_mods}, logscale=False)"
   ]
  },
  {
   "cell_type": "markdown",
   "id": "71dfe155",
   "metadata": {},
   "source": [
    "The optimal rank is defined as the lowest rank that is within one SEM of the CV restuls for the best scoring rank.\n",
    "The best model is the one with the highest mean score."
   ]
  },
  {
   "cell_type": "code",
   "execution_count": null,
   "id": "9c59a717",
   "metadata": {},
   "outputs": [],
   "source": [
    "rrr = reg.analyze_rrr(pd.DataFrame(rr_mods.cv_results_))\n",
    "rrr"
   ]
  },
  {
   "cell_type": "markdown",
   "id": "8344545c",
   "metadata": {},
   "source": [
    "# Activity modes"
   ]
  },
  {
   "cell_type": "code",
   "execution_count": null,
   "id": "83d09566",
   "metadata": {},
   "outputs": [],
   "source": [
    "# choose parameters to filter data for mode calculation\n",
    "params_mode = {\n",
    "    'bin_size': 0.1,\n",
    "    'rate_src': (1, None), \n",
    "    'spike_width_src': (None, None), \n",
    "    'trial_overlap': 0.9,             \n",
    "    'first_lick' : (None, None),\n",
    "    'type_incl': [ 'l_n', ],\n",
    "}\n",
    "\n",
    "X = rec_ops.filter_and_bin(rec1, params_mode)\n",
    "df_ramp = rec_ops.get_ramp_mode(X, rec1.df_trl, group='lick_group')\n",
    "vis.plot_mode(df_ramp)"
   ]
  }
 ],
 "metadata": {
  "jupytext": {
   "cell_metadata_filter": "-all",
   "custom_cell_magics": "kql"
  },
  "kernelspec": {
   "display_name": "comm_sub",
   "language": "python",
   "name": "python3"
  }
 },
 "nbformat": 4,
 "nbformat_minor": 5
}
